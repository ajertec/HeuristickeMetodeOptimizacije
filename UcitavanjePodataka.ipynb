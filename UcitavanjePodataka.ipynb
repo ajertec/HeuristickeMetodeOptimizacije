{
 "cells": [
  {
   "cell_type": "code",
   "execution_count": 1,
   "metadata": {},
   "outputs": [],
   "source": [
    "import numpy as np\n",
    "import pandas as pd"
   ]
  },
  {
   "cell_type": "code",
   "execution_count": 2,
   "metadata": {},
   "outputs": [],
   "source": [
    "file = \"instanca2.txt\""
   ]
  },
  {
   "cell_type": "code",
   "execution_count": 3,
   "metadata": {},
   "outputs": [],
   "source": [
    "with open(file, \"r\") as infile:\n",
    "    nj = infile.readlines()"
   ]
  },
  {
   "cell_type": "code",
   "execution_count": 4,
   "metadata": {},
   "outputs": [
    {
     "data": {
      "text/plain": [
       "['53\\n',\n",
       " '29\\n',\n",
       " '\\n',\n",
       " '42 42 42 44 44 53 53 53 53 53 53 42 53 53 53 42 53 53 53 42 53 53 42 53 53 42 42 53 42 42 42 44 42 53 42 44 53 42 53 42 42 42 42 42 42 42 42 42 42 53 42 53 42 \\n',\n",
       " '\\n',\n",
       " '2 2 2 3 3 1 1 1 1 1 1 2 1 1 1 2 1 1 1 2 1 1 2 1 1 2 2 1 2 2 2 3 2 1 2 3 1 2 1 2 2 2 2 2 2 2 2 2 2 1 2 1 2 \\n',\n",
       " '\\n',\n",
       " '1 1 1 1 1 1 1 1 1 1 1 1 1 1 1 1 1 1 1 1 1 1 1 1 1 1 1 1 1 \\n',\n",
       " '1 1 1 1 1 1 1 1 1 1 1 1 1 1 1 1 1 1 1 1 1 1 1 1 1 1 1 1 1 \\n',\n",
       " '1 1 1 1 1 1 1 1 1 1 1 1 1 1 1 1 1 1 1 1 1 1 1 1 1 1 1 1 1 \\n',\n",
       " '1 1 1 1 1 1 1 1 1 1 1 1 1 1 1 1 1 1 1 1 1 1 1 1 1 1 1 1 1 \\n',\n",
       " '1 1 1 1 1 1 1 1 1 1 1 1 1 1 1 1 1 1 1 1 0 0 0 0 0 0 0 0 0 \\n',\n",
       " '1 1 1 1 1 1 1 1 1 1 1 1 1 1 1 1 1 1 1 1 0 0 0 0 0 0 0 0 0 \\n',\n",
       " '1 1 1 1 1 1 1 1 1 1 1 1 1 1 1 1 1 1 1 1 0 0 0 0 0 0 0 0 0 \\n',\n",
       " '1 1 1 1 1 1 1 1 1 1 1 1 1 1 1 1 1 1 1 1 0 0 0 0 0 0 0 0 0 \\n',\n",
       " '1 1 1 1 1 1 1 1 1 1 1 1 1 1 1 1 1 1 1 1 0 0 0 0 0 0 0 0 0 \\n',\n",
       " '1 1 1 1 1 1 1 1 1 1 1 1 1 1 1 1 1 1 1 1 0 0 0 0 0 0 0 0 0 \\n',\n",
       " '1 1 1 1 1 1 1 1 1 1 1 1 1 1 1 1 1 1 1 1 0 0 0 0 0 0 0 0 0 \\n',\n",
       " '1 1 1 1 1 1 1 1 1 1 1 1 1 1 1 1 1 1 1 1 1 1 1 1 1 1 1 1 1 \\n',\n",
       " '1 1 1 1 1 1 1 1 1 1 1 1 1 1 1 1 1 1 1 1 0 0 0 0 0 0 0 0 0 \\n',\n",
       " '1 1 1 1 1 1 1 1 1 1 1 1 1 1 1 1 1 1 1 1 1 1 1 1 1 1 1 1 1 \\n',\n",
       " '1 1 1 1 1 1 1 1 1 1 1 1 1 1 1 1 1 1 1 1 0 0 0 0 0 0 0 0 0 \\n',\n",
       " '1 1 1 1 1 1 1 1 1 1 1 1 1 1 1 1 1 1 1 1 1 1 1 1 1 1 1 1 1 \\n',\n",
       " '1 1 1 1 1 1 1 1 1 1 1 1 1 1 1 1 1 1 1 1 0 0 0 0 0 0 0 0 0 \\n',\n",
       " '1 1 1 1 1 1 1 1 1 1 1 1 1 1 1 1 1 1 1 1 1 1 1 1 1 1 1 1 1 \\n',\n",
       " '1 1 1 1 1 1 1 1 1 1 1 1 1 1 1 1 1 1 1 1 0 0 0 0 0 0 0 0 0 \\n',\n",
       " '1 1 1 1 1 1 1 1 1 1 1 1 1 1 1 1 1 1 1 1 1 1 1 1 1 1 1 1 1 \\n',\n",
       " '1 1 1 1 1 1 1 1 1 1 1 1 1 1 1 1 1 1 1 1 1 1 1 1 1 1 1 1 1 \\n',\n",
       " '1 1 1 1 1 1 1 1 1 1 1 1 1 1 1 1 1 1 1 1 0 0 0 0 0 0 0 0 0 \\n',\n",
       " '1 1 1 1 1 1 1 1 1 1 1 1 1 1 1 1 1 1 1 1 1 1 1 1 1 1 1 1 1 \\n',\n",
       " '1 1 1 1 1 1 1 1 1 1 1 1 1 1 1 1 1 1 1 1 0 0 0 0 0 0 0 0 0 \\n',\n",
       " '1 1 1 1 1 1 1 1 1 1 1 1 1 1 1 1 1 1 1 1 1 1 1 1 1 1 1 1 1 \\n',\n",
       " '1 1 1 1 1 1 1 1 1 1 1 1 1 1 1 1 1 1 1 1 1 1 1 1 1 1 1 1 1 \\n',\n",
       " '1 1 1 1 1 1 1 1 1 1 1 1 1 1 1 1 1 1 1 1 0 0 0 0 0 0 0 0 0 \\n',\n",
       " '1 1 1 1 1 1 1 1 1 1 1 1 1 1 1 1 1 1 1 1 0 0 0 0 0 0 0 0 0 \\n',\n",
       " '1 1 1 1 1 1 1 1 1 1 1 1 1 1 1 1 1 1 1 1 0 0 0 0 0 0 0 0 0 \\n',\n",
       " '1 1 1 1 1 1 1 1 1 1 1 1 1 1 1 1 1 1 1 1 0 0 0 0 0 0 0 0 0 \\n',\n",
       " '1 1 1 1 1 1 1 1 1 1 1 1 1 1 1 1 1 1 1 1 0 0 0 0 0 0 0 0 0 \\n',\n",
       " '1 1 1 1 1 1 1 1 1 1 1 1 1 1 1 1 1 1 1 1 0 0 0 0 0 0 0 0 0 \\n',\n",
       " '1 1 1 1 1 1 1 1 1 1 1 1 1 1 1 1 1 1 1 1 1 1 1 1 1 1 1 1 1 \\n',\n",
       " '1 1 1 1 1 1 1 1 1 1 1 1 1 1 1 1 1 1 1 1 0 0 0 0 0 0 0 0 0 \\n',\n",
       " '1 1 1 1 1 1 1 1 1 1 1 1 1 1 1 1 1 1 1 1 1 1 1 1 1 1 1 1 1 \\n',\n",
       " '1 1 1 1 1 1 1 1 1 1 1 1 1 1 1 1 1 1 1 1 0 0 0 0 0 0 0 0 0 \\n',\n",
       " '1 1 1 1 1 1 1 1 1 1 1 1 1 1 1 1 1 1 1 1 0 0 0 0 0 0 0 0 0 \\n',\n",
       " '1 1 1 1 1 1 1 1 1 1 1 1 1 1 1 1 1 1 1 1 0 0 0 0 0 0 0 0 0 \\n',\n",
       " '1 1 1 1 1 1 1 1 1 1 1 1 1 1 1 1 1 1 1 1 1 1 1 1 1 1 1 1 1 \\n',\n",
       " '1 1 1 1 1 1 1 1 1 1 1 1 1 1 1 1 1 1 1 1 1 1 1 1 1 1 1 1 1 \\n',\n",
       " '1 1 1 1 1 1 1 1 1 1 1 1 1 1 1 1 1 1 1 1 1 1 1 1 1 1 1 1 1 \\n',\n",
       " '1 1 1 1 1 1 1 1 1 1 1 1 1 1 1 1 1 1 1 1 0 0 0 0 0 0 0 0 0 \\n',\n",
       " '1 1 1 1 1 1 1 1 1 1 1 1 1 1 1 1 1 1 1 1 0 0 0 0 0 0 0 0 0 \\n',\n",
       " '1 1 1 1 1 1 1 1 1 1 1 1 1 1 1 1 1 1 1 1 0 0 0 0 0 0 0 0 0 \\n',\n",
       " '1 1 1 1 1 1 1 1 1 1 1 1 1 1 1 1 1 1 1 1 1 1 1 1 1 1 1 1 1 \\n',\n",
       " '1 1 1 1 1 1 1 1 1 1 1 1 1 1 1 1 1 1 1 1 1 1 1 1 1 1 1 1 1 \\n',\n",
       " '1 1 1 1 1 1 1 1 1 1 1 1 1 1 1 1 1 1 1 1 0 0 0 0 0 0 0 0 0 \\n',\n",
       " '1 1 1 1 1 1 1 1 1 1 1 1 1 1 1 1 1 1 1 1 1 1 1 1 1 1 1 1 1 \\n',\n",
       " '1 1 1 1 1 1 1 1 1 1 1 1 1 1 1 1 1 1 1 1 1 1 1 1 1 1 1 1 1 \\n',\n",
       " '1 1 1 1 1 1 1 1 1 1 1 1 1 1 1 1 1 1 1 1 0 0 0 0 0 0 0 0 0 \\n',\n",
       " '1 1 1 1 1 1 1 1 1 1 1 1 1 1 1 1 1 1 1 1 0 0 0 0 0 0 0 0 0 \\n',\n",
       " '1 1 1 1 1 1 1 1 1 1 1 1 1 1 1 1 1 1 1 1 1 1 1 1 1 1 1 1 1 \\n',\n",
       " '1 1 1 1 1 1 1 1 1 1 1 1 1 1 1 1 1 1 1 1 1 1 1 1 1 1 1 1 1 \\n',\n",
       " '\\n',\n",
       " '74 83 90 97 96 133 132 132 134 134 134 128 85 88 124 120 124 107 107 107 107 91 88 85 78 88 70 66 80 \\n',\n",
       " '\\n',\n",
       " '345 360 375 378 395 405 406 409 425 437 381 419 254 256 261 307 314 324 334 344 389 397 402 410 429 433 442 278 283 288 293 298 303 313 318 323 333 341 351 383 393 434 308 312 322 332 342 438 396 274 380 392 264 \\n',\n",
       " '\\n',\n",
       " '6 6 6 6 6 6 6 6 6 6 1 1 6 6 6 6 6 6 6 6 6 6 6 6 6 6 6 0 0 0 0 0 0 0 0 0 0 0 0 0 0 0 1 0 0 0 0 0 4 6 6 6 6 \\n',\n",
       " '\\n',\n",
       " '5 4 \\n',\n",
       " '8 7 \\n',\n",
       " '12 13 14 \\n',\n",
       " '21 22 \\n',\n",
       " '23 22 \\n',\n",
       " '25 24 \\n',\n",
       " '28 27 29 ']"
      ]
     },
     "execution_count": 4,
     "metadata": {},
     "output_type": "execute_result"
    }
   ],
   "source": [
    "nj"
   ]
  },
  {
   "cell_type": "code",
   "execution_count": 24,
   "metadata": {},
   "outputs": [],
   "source": [
    "lj = []\n",
    "for i in nj[:]:\n",
    "    lj.append(i.split())"
   ]
  },
  {
   "cell_type": "code",
   "execution_count": 6,
   "metadata": {},
   "outputs": [
    {
     "name": "stdout",
     "output_type": "stream",
     "text": [
      "53\n",
      "29\n"
     ]
    }
   ],
   "source": [
    "broj_vozila = int(lj[0][0])\n",
    "broj_traka = int(lj[1][0])\n",
    "\n",
    "print(broj_vozila)\n",
    "print(broj_traka)"
   ]
  },
  {
   "cell_type": "code",
   "execution_count": 7,
   "metadata": {},
   "outputs": [
    {
     "data": {
      "text/plain": [
       "array([42, 42, 42, 44, 44, 53, 53, 53, 53, 53, 53, 42, 53, 53, 53, 42, 53,\n",
       "       53, 53, 42, 53, 53, 42, 53, 53, 42, 42, 53, 42, 42, 42, 44, 42, 53,\n",
       "       42, 44, 53, 42, 53, 42, 42, 42, 42, 42, 42, 42, 42, 42, 42, 53, 42,\n",
       "       53, 42])"
      ]
     },
     "execution_count": 7,
     "metadata": {},
     "output_type": "execute_result"
    }
   ],
   "source": [
    "duljina_vozila = np.array(lj[3], dtype = int)\n",
    "duljina_vozila"
   ]
  },
  {
   "cell_type": "code",
   "execution_count": 8,
   "metadata": {},
   "outputs": [
    {
     "data": {
      "text/plain": [
       "array([2, 2, 2, 3, 3, 1, 1, 1, 1, 1, 1, 2, 1, 1, 1, 2, 1, 1, 1, 2, 1, 1,\n",
       "       2, 1, 1, 2, 2, 1, 2, 2, 2, 3, 2, 1, 2, 3, 1, 2, 1, 2, 2, 2, 2, 2,\n",
       "       2, 2, 2, 2, 2, 1, 2, 1, 2])"
      ]
     },
     "execution_count": 8,
     "metadata": {},
     "output_type": "execute_result"
    }
   ],
   "source": [
    "serija_vozila = np.array(lj[5], dtype = int)\n",
    "serija_vozila"
   ]
  },
  {
   "cell_type": "code",
   "execution_count": 9,
   "metadata": {},
   "outputs": [
    {
     "data": {
      "text/plain": [
       "array([[1, 1, 1, ..., 1, 1, 1],\n",
       "       [1, 1, 1, ..., 1, 1, 1],\n",
       "       [1, 1, 1, ..., 1, 1, 1],\n",
       "       ...,\n",
       "       [1, 1, 1, ..., 0, 0, 0],\n",
       "       [1, 1, 1, ..., 1, 1, 1],\n",
       "       [1, 1, 1, ..., 1, 1, 1]])"
      ]
     },
     "execution_count": 9,
     "metadata": {},
     "output_type": "execute_result"
    }
   ],
   "source": [
    "ogranicenja_trake = np.array(lj[7:7+broj_vozila], dtype = int)\n",
    "ogranicenja_trake"
   ]
  },
  {
   "cell_type": "code",
   "execution_count": 10,
   "metadata": {},
   "outputs": [
    {
     "data": {
      "text/plain": [
       "(53, 29)"
      ]
     },
     "execution_count": 10,
     "metadata": {},
     "output_type": "execute_result"
    }
   ],
   "source": [
    "ogranicenja_trake.shape"
   ]
  },
  {
   "cell_type": "code",
   "execution_count": 11,
   "metadata": {},
   "outputs": [],
   "source": [
    "assert ogranicenja_trake.shape[0] == broj_vozila\n",
    "assert ogranicenja_trake.shape[1] == broj_traka"
   ]
  },
  {
   "cell_type": "code",
   "execution_count": 12,
   "metadata": {},
   "outputs": [
    {
     "data": {
      "text/plain": [
       "array([ 74,  83,  90,  97,  96, 133, 132, 132, 134, 134, 134, 128,  85,\n",
       "        88, 124, 120, 124, 107, 107, 107, 107,  91,  88,  85,  78,  88,\n",
       "        70,  66,  80])"
      ]
     },
     "execution_count": 12,
     "metadata": {},
     "output_type": "execute_result"
    }
   ],
   "source": [
    "duljina_trake =  np.array(lj[7+broj_vozila+1], dtype = int)\n",
    "duljina_trake"
   ]
  },
  {
   "cell_type": "code",
   "execution_count": 13,
   "metadata": {},
   "outputs": [
    {
     "data": {
      "text/plain": [
       "array([345, 360, 375, 378, 395, 405, 406, 409, 425, 437, 381, 419, 254,\n",
       "       256, 261, 307, 314, 324, 334, 344, 389, 397, 402, 410, 429, 433,\n",
       "       442, 278, 283, 288, 293, 298, 303, 313, 318, 323, 333, 341, 351,\n",
       "       383, 393, 434, 308, 312, 322, 332, 342, 438, 396, 274, 380, 392,\n",
       "       264])"
      ]
     },
     "execution_count": 13,
     "metadata": {},
     "output_type": "execute_result"
    }
   ],
   "source": [
    "vrijeme_izlaska = np.array(lj[7+broj_vozila+3], dtype = int)\n",
    "vrijeme_izlaska"
   ]
  },
  {
   "cell_type": "code",
   "execution_count": 16,
   "metadata": {},
   "outputs": [
    {
     "data": {
      "text/plain": [
       "array([6, 6, 6, 6, 6, 6, 6, 6, 6, 6, 1, 1, 6, 6, 6, 6, 6, 6, 6, 6, 6, 6,\n",
       "       6, 6, 6, 6, 6, 0, 0, 0, 0, 0, 0, 0, 0, 0, 0, 0, 0, 0, 0, 0, 1, 0,\n",
       "       0, 0, 0, 0, 4, 6, 6, 6, 6])"
      ]
     },
     "execution_count": 16,
     "metadata": {},
     "output_type": "execute_result"
    }
   ],
   "source": [
    "tip_rasporeda = np.array(lj[7+broj_vozila+5], dtype = int)\n",
    "tip_rasporeda"
   ]
  },
  {
   "cell_type": "code",
   "execution_count": 17,
   "metadata": {},
   "outputs": [
    {
     "data": {
      "text/plain": [
       "[['5', '4'],\n",
       " ['8', '7'],\n",
       " ['12', '13', '14'],\n",
       " ['21', '22'],\n",
       " ['23', '22'],\n",
       " ['25', '24'],\n",
       " ['28', '27', '29']]"
      ]
     },
     "execution_count": 17,
     "metadata": {},
     "output_type": "execute_result"
    }
   ],
   "source": [
    "ograničenja = lj[7+broj_vozila+5+2:]\n",
    "ograničenja"
   ]
  },
  {
   "cell_type": "code",
   "execution_count": 19,
   "metadata": {},
   "outputs": [],
   "source": [
    "vozilo = {}\n",
    "\n",
    "for key1 in range(0, 53):\n",
    "    # jer id od 1 ide..\n",
    "    vozilo[key1+1] = {\"duljina\": duljina_vozila[key1], \"serija\": serija_vozila[key1], \"izlazak\": vrijeme_izlaska[key1], \"raspored\":tip_rasporeda[key1]}"
   ]
  },
  {
   "cell_type": "code",
   "execution_count": 20,
   "metadata": {},
   "outputs": [
    {
     "data": {
      "text/plain": [
       "{1: {'duljina': 42, 'serija': 2, 'izlazak': 345, 'raspored': 6},\n",
       " 2: {'duljina': 42, 'serija': 2, 'izlazak': 360, 'raspored': 6},\n",
       " 3: {'duljina': 42, 'serija': 2, 'izlazak': 375, 'raspored': 6},\n",
       " 4: {'duljina': 44, 'serija': 3, 'izlazak': 378, 'raspored': 6},\n",
       " 5: {'duljina': 44, 'serija': 3, 'izlazak': 395, 'raspored': 6},\n",
       " 6: {'duljina': 53, 'serija': 1, 'izlazak': 405, 'raspored': 6},\n",
       " 7: {'duljina': 53, 'serija': 1, 'izlazak': 406, 'raspored': 6},\n",
       " 8: {'duljina': 53, 'serija': 1, 'izlazak': 409, 'raspored': 6},\n",
       " 9: {'duljina': 53, 'serija': 1, 'izlazak': 425, 'raspored': 6},\n",
       " 10: {'duljina': 53, 'serija': 1, 'izlazak': 437, 'raspored': 6},\n",
       " 11: {'duljina': 53, 'serija': 1, 'izlazak': 381, 'raspored': 1},\n",
       " 12: {'duljina': 42, 'serija': 2, 'izlazak': 419, 'raspored': 1},\n",
       " 13: {'duljina': 53, 'serija': 1, 'izlazak': 254, 'raspored': 6},\n",
       " 14: {'duljina': 53, 'serija': 1, 'izlazak': 256, 'raspored': 6},\n",
       " 15: {'duljina': 53, 'serija': 1, 'izlazak': 261, 'raspored': 6},\n",
       " 16: {'duljina': 42, 'serija': 2, 'izlazak': 307, 'raspored': 6},\n",
       " 17: {'duljina': 53, 'serija': 1, 'izlazak': 314, 'raspored': 6},\n",
       " 18: {'duljina': 53, 'serija': 1, 'izlazak': 324, 'raspored': 6},\n",
       " 19: {'duljina': 53, 'serija': 1, 'izlazak': 334, 'raspored': 6},\n",
       " 20: {'duljina': 42, 'serija': 2, 'izlazak': 344, 'raspored': 6},\n",
       " 21: {'duljina': 53, 'serija': 1, 'izlazak': 389, 'raspored': 6},\n",
       " 22: {'duljina': 53, 'serija': 1, 'izlazak': 397, 'raspored': 6},\n",
       " 23: {'duljina': 42, 'serija': 2, 'izlazak': 402, 'raspored': 6},\n",
       " 24: {'duljina': 53, 'serija': 1, 'izlazak': 410, 'raspored': 6},\n",
       " 25: {'duljina': 53, 'serija': 1, 'izlazak': 429, 'raspored': 6},\n",
       " 26: {'duljina': 42, 'serija': 2, 'izlazak': 433, 'raspored': 6},\n",
       " 27: {'duljina': 42, 'serija': 2, 'izlazak': 442, 'raspored': 6},\n",
       " 28: {'duljina': 53, 'serija': 1, 'izlazak': 278, 'raspored': 0},\n",
       " 29: {'duljina': 42, 'serija': 2, 'izlazak': 283, 'raspored': 0},\n",
       " 30: {'duljina': 42, 'serija': 2, 'izlazak': 288, 'raspored': 0},\n",
       " 31: {'duljina': 42, 'serija': 2, 'izlazak': 293, 'raspored': 0},\n",
       " 32: {'duljina': 44, 'serija': 3, 'izlazak': 298, 'raspored': 0},\n",
       " 33: {'duljina': 42, 'serija': 2, 'izlazak': 303, 'raspored': 0},\n",
       " 34: {'duljina': 53, 'serija': 1, 'izlazak': 313, 'raspored': 0},\n",
       " 35: {'duljina': 42, 'serija': 2, 'izlazak': 318, 'raspored': 0},\n",
       " 36: {'duljina': 44, 'serija': 3, 'izlazak': 323, 'raspored': 0},\n",
       " 37: {'duljina': 53, 'serija': 1, 'izlazak': 333, 'raspored': 0},\n",
       " 38: {'duljina': 42, 'serija': 2, 'izlazak': 341, 'raspored': 0},\n",
       " 39: {'duljina': 53, 'serija': 1, 'izlazak': 351, 'raspored': 0},\n",
       " 40: {'duljina': 42, 'serija': 2, 'izlazak': 383, 'raspored': 0},\n",
       " 41: {'duljina': 42, 'serija': 2, 'izlazak': 393, 'raspored': 0},\n",
       " 42: {'duljina': 42, 'serija': 2, 'izlazak': 434, 'raspored': 0},\n",
       " 43: {'duljina': 42, 'serija': 2, 'izlazak': 308, 'raspored': 1},\n",
       " 44: {'duljina': 42, 'serija': 2, 'izlazak': 312, 'raspored': 0},\n",
       " 45: {'duljina': 42, 'serija': 2, 'izlazak': 322, 'raspored': 0},\n",
       " 46: {'duljina': 42, 'serija': 2, 'izlazak': 332, 'raspored': 0},\n",
       " 47: {'duljina': 42, 'serija': 2, 'izlazak': 342, 'raspored': 0},\n",
       " 48: {'duljina': 42, 'serija': 2, 'izlazak': 438, 'raspored': 0},\n",
       " 49: {'duljina': 42, 'serija': 2, 'izlazak': 396, 'raspored': 4},\n",
       " 50: {'duljina': 53, 'serija': 1, 'izlazak': 274, 'raspored': 6},\n",
       " 51: {'duljina': 42, 'serija': 2, 'izlazak': 380, 'raspored': 6},\n",
       " 52: {'duljina': 53, 'serija': 1, 'izlazak': 392, 'raspored': 6},\n",
       " 53: {'duljina': 42, 'serija': 2, 'izlazak': 264, 'raspored': 6}}"
      ]
     },
     "execution_count": 20,
     "metadata": {},
     "output_type": "execute_result"
    }
   ],
   "source": [
    "vozilo"
   ]
  },
  {
   "cell_type": "code",
   "execution_count": 27,
   "metadata": {},
   "outputs": [
    {
     "data": {
      "text/plain": [
       "2"
      ]
     },
     "execution_count": 27,
     "metadata": {},
     "output_type": "execute_result"
    }
   ],
   "source": [
    "vozilo[1][\"serija\"]"
   ]
  },
  {
   "cell_type": "code",
   "execution_count": 30,
   "metadata": {},
   "outputs": [
    {
     "data": {
      "text/plain": [
       "264"
      ]
     },
     "execution_count": 30,
     "metadata": {},
     "output_type": "execute_result"
    }
   ],
   "source": [
    "vozilo[53][\"izlazak\"]"
   ]
  },
  {
   "cell_type": "code",
   "execution_count": 31,
   "metadata": {},
   "outputs": [
    {
     "data": {
      "text/plain": [
       "[(13, {'duljina': 53, 'serija': 1, 'izlazak': 254, 'raspored': 6}),\n",
       " (14, {'duljina': 53, 'serija': 1, 'izlazak': 256, 'raspored': 6}),\n",
       " (15, {'duljina': 53, 'serija': 1, 'izlazak': 261, 'raspored': 6}),\n",
       " (53, {'duljina': 42, 'serija': 2, 'izlazak': 264, 'raspored': 6}),\n",
       " (50, {'duljina': 53, 'serija': 1, 'izlazak': 274, 'raspored': 6}),\n",
       " (28, {'duljina': 53, 'serija': 1, 'izlazak': 278, 'raspored': 0}),\n",
       " (29, {'duljina': 42, 'serija': 2, 'izlazak': 283, 'raspored': 0}),\n",
       " (30, {'duljina': 42, 'serija': 2, 'izlazak': 288, 'raspored': 0}),\n",
       " (31, {'duljina': 42, 'serija': 2, 'izlazak': 293, 'raspored': 0}),\n",
       " (32, {'duljina': 44, 'serija': 3, 'izlazak': 298, 'raspored': 0}),\n",
       " (33, {'duljina': 42, 'serija': 2, 'izlazak': 303, 'raspored': 0}),\n",
       " (16, {'duljina': 42, 'serija': 2, 'izlazak': 307, 'raspored': 6}),\n",
       " (43, {'duljina': 42, 'serija': 2, 'izlazak': 308, 'raspored': 1}),\n",
       " (44, {'duljina': 42, 'serija': 2, 'izlazak': 312, 'raspored': 0}),\n",
       " (34, {'duljina': 53, 'serija': 1, 'izlazak': 313, 'raspored': 0}),\n",
       " (17, {'duljina': 53, 'serija': 1, 'izlazak': 314, 'raspored': 6}),\n",
       " (35, {'duljina': 42, 'serija': 2, 'izlazak': 318, 'raspored': 0}),\n",
       " (45, {'duljina': 42, 'serija': 2, 'izlazak': 322, 'raspored': 0}),\n",
       " (36, {'duljina': 44, 'serija': 3, 'izlazak': 323, 'raspored': 0}),\n",
       " (18, {'duljina': 53, 'serija': 1, 'izlazak': 324, 'raspored': 6}),\n",
       " (46, {'duljina': 42, 'serija': 2, 'izlazak': 332, 'raspored': 0}),\n",
       " (37, {'duljina': 53, 'serija': 1, 'izlazak': 333, 'raspored': 0}),\n",
       " (19, {'duljina': 53, 'serija': 1, 'izlazak': 334, 'raspored': 6}),\n",
       " (38, {'duljina': 42, 'serija': 2, 'izlazak': 341, 'raspored': 0}),\n",
       " (47, {'duljina': 42, 'serija': 2, 'izlazak': 342, 'raspored': 0}),\n",
       " (20, {'duljina': 42, 'serija': 2, 'izlazak': 344, 'raspored': 6}),\n",
       " (1, {'duljina': 42, 'serija': 2, 'izlazak': 345, 'raspored': 6}),\n",
       " (39, {'duljina': 53, 'serija': 1, 'izlazak': 351, 'raspored': 0}),\n",
       " (2, {'duljina': 42, 'serija': 2, 'izlazak': 360, 'raspored': 6}),\n",
       " (3, {'duljina': 42, 'serija': 2, 'izlazak': 375, 'raspored': 6}),\n",
       " (4, {'duljina': 44, 'serija': 3, 'izlazak': 378, 'raspored': 6}),\n",
       " (51, {'duljina': 42, 'serija': 2, 'izlazak': 380, 'raspored': 6}),\n",
       " (11, {'duljina': 53, 'serija': 1, 'izlazak': 381, 'raspored': 1}),\n",
       " (40, {'duljina': 42, 'serija': 2, 'izlazak': 383, 'raspored': 0}),\n",
       " (21, {'duljina': 53, 'serija': 1, 'izlazak': 389, 'raspored': 6}),\n",
       " (52, {'duljina': 53, 'serija': 1, 'izlazak': 392, 'raspored': 6}),\n",
       " (41, {'duljina': 42, 'serija': 2, 'izlazak': 393, 'raspored': 0}),\n",
       " (5, {'duljina': 44, 'serija': 3, 'izlazak': 395, 'raspored': 6}),\n",
       " (49, {'duljina': 42, 'serija': 2, 'izlazak': 396, 'raspored': 4}),\n",
       " (22, {'duljina': 53, 'serija': 1, 'izlazak': 397, 'raspored': 6}),\n",
       " (23, {'duljina': 42, 'serija': 2, 'izlazak': 402, 'raspored': 6}),\n",
       " (6, {'duljina': 53, 'serija': 1, 'izlazak': 405, 'raspored': 6}),\n",
       " (7, {'duljina': 53, 'serija': 1, 'izlazak': 406, 'raspored': 6}),\n",
       " (8, {'duljina': 53, 'serija': 1, 'izlazak': 409, 'raspored': 6}),\n",
       " (24, {'duljina': 53, 'serija': 1, 'izlazak': 410, 'raspored': 6}),\n",
       " (12, {'duljina': 42, 'serija': 2, 'izlazak': 419, 'raspored': 1}),\n",
       " (9, {'duljina': 53, 'serija': 1, 'izlazak': 425, 'raspored': 6}),\n",
       " (25, {'duljina': 53, 'serija': 1, 'izlazak': 429, 'raspored': 6}),\n",
       " (26, {'duljina': 42, 'serija': 2, 'izlazak': 433, 'raspored': 6}),\n",
       " (42, {'duljina': 42, 'serija': 2, 'izlazak': 434, 'raspored': 0}),\n",
       " (10, {'duljina': 53, 'serija': 1, 'izlazak': 437, 'raspored': 6}),\n",
       " (48, {'duljina': 42, 'serija': 2, 'izlazak': 438, 'raspored': 0}),\n",
       " (27, {'duljina': 42, 'serija': 2, 'izlazak': 442, 'raspored': 6})]"
      ]
     },
     "execution_count": 31,
     "metadata": {},
     "output_type": "execute_result"
    }
   ],
   "source": [
    "sorted_by_izlazak = sorted(vozilo.items(), key=lambda kv: kv[1][\"izlazak\"])\n",
    "sorted_by_izlazak"
   ]
  },
  {
   "cell_type": "code",
   "execution_count": 42,
   "metadata": {},
   "outputs": [
    {
     "data": {
      "text/plain": [
       "array([13, 14, 15, 53, 50, 28, 29, 30, 31, 32, 33, 16, 43, 44, 34, 17, 35,\n",
       "       45, 36, 18, 46, 37, 19, 38, 47, 20, 1, 39, 2, 3, 4, 51, 11, 40, 21,\n",
       "       52, 41, 5, 49, 22, 23, 6, 7, 8, 24, 12, 9, 25, 26, 42, 10, 48, 27],\n",
       "      dtype=object)"
      ]
     },
     "execution_count": 42,
     "metadata": {},
     "output_type": "execute_result"
    }
   ],
   "source": [
    "# id vozila sortirani po vremenu izlaska\n",
    "\n",
    "np.array(sorted_by_value)[:,0]"
   ]
  }
 ],
 "metadata": {
  "kernelspec": {
   "display_name": "Python [conda env:tensorflowGPU]",
   "language": "python",
   "name": "conda-env-tensorflowGPU-py"
  },
  "language_info": {
   "codemirror_mode": {
    "name": "ipython",
    "version": 3
   },
   "file_extension": ".py",
   "mimetype": "text/x-python",
   "name": "python",
   "nbconvert_exporter": "python",
   "pygments_lexer": "ipython3",
   "version": "3.6.7"
  }
 },
 "nbformat": 4,
 "nbformat_minor": 2
}
