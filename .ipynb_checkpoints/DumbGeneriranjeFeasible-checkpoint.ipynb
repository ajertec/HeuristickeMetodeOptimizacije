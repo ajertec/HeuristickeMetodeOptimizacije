{
 "cells": [
  {
   "cell_type": "markdown",
   "metadata": {},
   "source": [
    "# Učitavanje"
   ]
  },
  {
   "cell_type": "code",
   "execution_count": 1,
   "metadata": {},
   "outputs": [],
   "source": [
    "import random\n",
    "import numpy as np\n",
    "import pandas as pd"
   ]
  },
  {
   "cell_type": "code",
   "execution_count": 2,
   "metadata": {},
   "outputs": [],
   "source": [
    "file = \"instanca1.txt\""
   ]
  },
  {
   "cell_type": "code",
   "execution_count": 3,
   "metadata": {},
   "outputs": [],
   "source": [
    "with open(file, \"r\") as infile:\n",
    "    nj = infile.readlines()"
   ]
  },
  {
   "cell_type": "code",
   "execution_count": 4,
   "metadata": {},
   "outputs": [],
   "source": [
    "lj = []\n",
    "for i in nj[:]:\n",
    "    lj.append(i.split())"
   ]
  },
  {
   "cell_type": "code",
   "execution_count": 5,
   "metadata": {},
   "outputs": [
    {
     "name": "stdout",
     "output_type": "stream",
     "text": [
      "49.0\n",
      "29.0\n"
     ]
    }
   ],
   "source": [
    "broj_vozila = float(lj[0][0])\n",
    "broj_traka = float(lj[1][0])\n",
    "\n",
    "print(broj_vozila)\n",
    "print(broj_traka)"
   ]
  },
  {
   "cell_type": "code",
   "execution_count": 6,
   "metadata": {},
   "outputs": [
    {
     "data": {
      "text/plain": [
       "array([42., 42., 42., 53., 53., 42., 53., 53., 53., 42., 53., 53., 53.,\n",
       "       42., 53., 53., 53., 42., 53., 42., 42., 53., 53., 42., 42., 53.,\n",
       "       42., 42., 42., 53., 42., 42., 53., 42., 42., 42., 42., 42., 53.,\n",
       "       42., 42., 42., 42., 42., 42., 53., 42., 53., 42.])"
      ]
     },
     "execution_count": 6,
     "metadata": {},
     "output_type": "execute_result"
    }
   ],
   "source": [
    "duljina_vozila = np.array(lj[3], dtype = float)\n",
    "duljina_vozila"
   ]
  },
  {
   "cell_type": "code",
   "execution_count": 7,
   "metadata": {},
   "outputs": [
    {
     "data": {
      "text/plain": [
       "array([2, 2, 2, 1, 1, 2, 1, 1, 1, 2, 1, 1, 1, 2, 1, 1, 1, 2, 1, 2, 2, 1,\n",
       "       1, 2, 2, 1, 2, 2, 2, 1, 2, 2, 1, 2, 2, 2, 2, 2, 1, 2, 2, 2, 2, 2,\n",
       "       2, 1, 2, 1, 2])"
      ]
     },
     "execution_count": 7,
     "metadata": {},
     "output_type": "execute_result"
    }
   ],
   "source": [
    "serija_vozila = np.array(lj[5], dtype = int)\n",
    "serija_vozila"
   ]
  },
  {
   "cell_type": "markdown",
   "metadata": {},
   "source": [
    "### ogranicenje trake"
   ]
  },
  {
   "cell_type": "code",
   "execution_count": 8,
   "metadata": {
    "scrolled": true
   },
   "outputs": [
    {
     "data": {
      "text/plain": [
       "array([[1, 1, 1, ..., 1, 1, 1],\n",
       "       [1, 1, 1, ..., 1, 1, 1],\n",
       "       [1, 1, 1, ..., 1, 1, 1],\n",
       "       ...,\n",
       "       [1, 1, 1, ..., 0, 0, 0],\n",
       "       [1, 1, 1, ..., 0, 0, 0],\n",
       "       [1, 1, 1, ..., 1, 1, 1]])"
      ]
     },
     "execution_count": 8,
     "metadata": {},
     "output_type": "execute_result"
    }
   ],
   "source": [
    "ogranicenja_trake = np.array(lj[7:7+int(broj_vozila)], dtype = int)\n",
    "ogranicenja_trake"
   ]
  },
  {
   "cell_type": "code",
   "execution_count": 9,
   "metadata": {},
   "outputs": [
    {
     "data": {
      "text/plain": [
       "(49, 29)"
      ]
     },
     "execution_count": 9,
     "metadata": {},
     "output_type": "execute_result"
    }
   ],
   "source": [
    "ogranicenja_trake.shape"
   ]
  },
  {
   "cell_type": "code",
   "execution_count": 10,
   "metadata": {},
   "outputs": [],
   "source": [
    "assert ogranicenja_trake.shape[0] == broj_vozila\n",
    "assert ogranicenja_trake.shape[1] == broj_traka"
   ]
  },
  {
   "cell_type": "code",
   "execution_count": 11,
   "metadata": {},
   "outputs": [
    {
     "data": {
      "text/plain": [
       "array([ 74.,  83.,  90.,  97.,  96., 133., 132., 132., 134., 134., 134.,\n",
       "       128.,  85.,  88., 124., 120., 124., 107., 107., 107., 107.,  91.,\n",
       "        88.,  85.,  78.,  88.,  70.,  66.,  80.])"
      ]
     },
     "execution_count": 11,
     "metadata": {},
     "output_type": "execute_result"
    }
   ],
   "source": [
    "duljina_trake =  np.array(lj[7+int(broj_vozila)+1], dtype = float)\n",
    "duljina_trake"
   ]
  },
  {
   "cell_type": "code",
   "execution_count": 12,
   "metadata": {},
   "outputs": [
    {
     "data": {
      "text/plain": [
       "array([288, 333, 345, 360, 376, 393, 396, 399, 406, 410, 425, 438, 381,\n",
       "       419, 397, 255, 257, 262, 307, 314, 324, 334, 344, 391, 400, 409,\n",
       "       428, 433, 442, 278, 283, 293, 298, 303, 308, 313, 318, 323, 341,\n",
       "       385, 394, 440, 351, 312, 322, 332, 342, 407, 437])"
      ]
     },
     "execution_count": 12,
     "metadata": {},
     "output_type": "execute_result"
    }
   ],
   "source": [
    "vrijeme_izlaska = np.array(lj[7+int(broj_vozila)+3], dtype = int)\n",
    "vrijeme_izlaska"
   ]
  },
  {
   "cell_type": "code",
   "execution_count": 13,
   "metadata": {},
   "outputs": [
    {
     "data": {
      "text/plain": [
       "array([6, 6, 6, 6, 6, 6, 6, 6, 6, 6, 6, 6, 1, 1, 4, 6, 6, 6, 6, 6, 6, 6,\n",
       "       6, 6, 6, 6, 6, 6, 6, 0, 0, 0, 0, 0, 0, 0, 0, 0, 0, 0, 0, 1, 4, 0,\n",
       "       0, 0, 0, 0, 0])"
      ]
     },
     "execution_count": 13,
     "metadata": {},
     "output_type": "execute_result"
    }
   ],
   "source": [
    "tip_rasporeda = np.array(lj[7+int(broj_vozila)+5], dtype = int)\n",
    "tip_rasporeda"
   ]
  },
  {
   "cell_type": "code",
   "execution_count": 14,
   "metadata": {},
   "outputs": [
    {
     "data": {
      "text/plain": [
       "[['5', '4'],\n",
       " ['8', '7'],\n",
       " ['11', '10'],\n",
       " ['12', '13', '14'],\n",
       " ['16', '15'],\n",
       " ['19', '18'],\n",
       " ['21', '22'],\n",
       " ['23', '22'],\n",
       " ['25', '24']]"
      ]
     },
     "execution_count": 14,
     "metadata": {},
     "output_type": "execute_result"
    }
   ],
   "source": [
    "ogranicenja = lj[7+int(broj_vozila)+5+2:]\n",
    "ogranicenja"
   ]
  },
  {
   "cell_type": "code",
   "execution_count": 15,
   "metadata": {},
   "outputs": [
    {
     "data": {
      "text/plain": [
       "[4, 7, 10, 13, 14, 15, 18, 22, 22, 24]"
      ]
     },
     "execution_count": 15,
     "metadata": {},
     "output_type": "execute_result"
    }
   ],
   "source": [
    "blokirane_trake = []\n",
    "\n",
    "for lista in ogranicenja:\n",
    "    # preskoci prvi element, tj id prve trake\n",
    "    for i in range(1,len(lista)):\n",
    "        blokirane_trake.append(int(lista[i]))\n",
    "blokirane_trake        \n",
    "        "
   ]
  },
  {
   "cell_type": "code",
   "execution_count": 16,
   "metadata": {},
   "outputs": [],
   "source": [
    "vozilo = {}\n",
    "\n",
    "for key1 in range(0, int(broj_vozila)):\n",
    "    # jer id od 1 ide..\n",
    "    vozilo[key1+1] = {\"duljina\": duljina_vozila[key1], \"serija\": serija_vozila[key1], \"izlazak\": vrijeme_izlaska[key1], \"raspored\":tip_rasporeda[key1]}"
   ]
  },
  {
   "cell_type": "code",
   "execution_count": 17,
   "metadata": {},
   "outputs": [],
   "source": [
    "traka = {}\n",
    "\n",
    "for key1 in range(0, int(broj_traka)):\n",
    "    # jer id od 1 ide..\n",
    "    traka[key1+1] = {\"duljina\": duljina_trake[key1], \n",
    "                     \"blokirana_od\": [], \n",
    "                     \"blokira\":[],\n",
    "                     \"ogranicenje\": ogranicenja_trake [:, key1]} # 0.element je boolean jeli traka dopusta vozilo 1 parkiranje}\n",
    "    "
   ]
  },
  {
   "cell_type": "code",
   "execution_count": 18,
   "metadata": {},
   "outputs": [],
   "source": [
    "# za svaku listu citaj prvi element i update traka\n",
    "\n",
    "for lista in ogranicenja:\n",
    "    \n",
    "    # prvi element naznacuje id trake, ostali elementi blokirane trake\n",
    "    # za svaku blokiranu stavi koja ju blokira\n",
    "    for id_blokirane in lista[1:]:\n",
    "        traka[int(id_blokirane)][\"blokirana_od\"].append(lista[0])"
   ]
  },
  {
   "cell_type": "code",
   "execution_count": 19,
   "metadata": {},
   "outputs": [],
   "source": [
    "for lista in ogranicenja:\n",
    "    \n",
    "    # prvi element naznacuje id trake\n",
    "    for id_blokirane in lista[1:]:\n",
    "        traka[int(lista[0])][\"blokira\"].append(int(id_blokirane))"
   ]
  },
  {
   "cell_type": "code",
   "execution_count": 20,
   "metadata": {},
   "outputs": [
    {
     "data": {
      "text/plain": [
       "[['31'],\n",
       " [],\n",
       " ['38', '47'],\n",
       " ['6', '28'],\n",
       " ['35', '45'],\n",
       " ['32', '36', '43'],\n",
       " ['5', '7'],\n",
       " ['19', '22'],\n",
       " [],\n",
       " ['11', '12'],\n",
       " ['18', '44', '41'],\n",
       " ['34', '20', '21'],\n",
       " ['25', '27'],\n",
       " [],\n",
       " ['4', '8'],\n",
       " ['30', '46'],\n",
       " ['15', '26'],\n",
       " ['13', '48'],\n",
       " ['33', '39'],\n",
       " ['17', '9'],\n",
       " ['16', '23'],\n",
       " ['14', '42'],\n",
       " ['1', '3'],\n",
       " ['40', '49'],\n",
       " ['2'],\n",
       " ['24', '10'],\n",
       " ['29'],\n",
       " ['37'],\n",
       " []]"
      ]
     },
     "execution_count": 20,
     "metadata": {},
     "output_type": "execute_result"
    }
   ],
   "source": [
    "with open(\"instanca1rj.txt\", \"r\") as infile:\n",
    "    primjer_rjesenja = []\n",
    "    for i in infile.readlines():\n",
    "        primjer_rjesenja.append(i.split())\n",
    "primjer_rjesenja  "
   ]
  },
  {
   "cell_type": "code",
   "execution_count": 21,
   "metadata": {},
   "outputs": [
    {
     "data": {
      "text/plain": [
       "{'duljina': 91.0,\n",
       " 'blokirana_od': ['21', '23'],\n",
       " 'blokira': [],\n",
       " 'ogranicenje': array([1, 1, 1, 0, 0, 0, 0, 0, 0, 1, 0, 1, 0, 1, 0, 1, 0, 1, 1, 0, 1, 0,\n",
       "        1, 1, 0, 0, 0, 0, 1, 0, 1, 0, 0, 0, 1, 0, 1, 0, 1, 1, 0, 1, 0, 1,\n",
       "        1, 1, 0, 0, 1])}"
      ]
     },
     "execution_count": 21,
     "metadata": {},
     "output_type": "execute_result"
    }
   ],
   "source": [
    "traka[22]"
   ]
  },
  {
   "cell_type": "markdown",
   "metadata": {},
   "source": [
    "# Objective kao jedna fja"
   ]
  },
  {
   "cell_type": "code",
   "execution_count": 22,
   "metadata": {},
   "outputs": [],
   "source": [
    "uk_kapacitet_svih_traka = np.sum(duljina_trake)\n",
    "uk_duljina_svih_vozila = np.sum(duljina_vozila)"
   ]
  },
  {
   "cell_type": "code",
   "execution_count": 23,
   "metadata": {},
   "outputs": [],
   "source": [
    "def nagrada_penal(v1, v2):\n",
    "    vr = abs(v1-v2)\n",
    "    if vr >= 10 and vr <= 20:\n",
    "        return 15\n",
    "    if vr > 20:\n",
    "        return 10\n",
    "    if vr < 10:\n",
    "        return -4*(10-vr)"
   ]
  },
  {
   "cell_type": "code",
   "execution_count": 24,
   "metadata": {},
   "outputs": [],
   "source": [
    "# ulazi rjesenje i dict vozila, trake?\n",
    "\n",
    "# otprije trebi biti definirana: uk_kapacitet_svih_traka, uk_duljina_svih_vozila (f3), broj_vozila (g1)\n",
    "\n",
    "def evaluation_function(rjesenje):\n",
    "    \n",
    "    broj_traka = len(rjesenje)\n",
    "    \n",
    "    #f2\n",
    "    broj_koristenih_traka = 0\n",
    "    \n",
    "    #f3\n",
    "    iskoristeni_kapacitet = 0\n",
    "    ukupni_koristeni_kapacitet = 0\n",
    "    \n",
    "    #f1\n",
    "    razlika_serija = 0\n",
    "    serija = 0 # OPREZ ,PRETPOSTAVKA DA NEMA NULTE SERIJE!!!\n",
    "    \n",
    "    #g1\n",
    "    br_isti_raspored = 0\n",
    "    \n",
    "    #g2\n",
    "    g2 = -1 # jer sam brojil prvu traku..\n",
    "    tmp_prvi_id = -9999\n",
    "    tmp_zadnji_id = -9999 \n",
    "    \n",
    "    #g3\n",
    "    n_p_uk = 0\n",
    "    br_parova = 0\n",
    "    \n",
    "    # za svaku TRAKU u rjesenju (po poziciji, i je list index) ''''''''''''''\n",
    "    for i in range(broj_traka):\n",
    "        \n",
    "        # ako je koristena traka, tj nije prazna\n",
    "        if rjesenje[i] != []:\n",
    "            \n",
    "            # F2 ********\n",
    "            broj_koristenih_traka += 1\n",
    "            \n",
    "            # G2 ********\n",
    "            # id prvog vozila u trenutnoj traci\n",
    "            vozilo_prvo_id = int(rjesenje[i][0])\n",
    "\n",
    "            # id zadnjeg vozila u trenutnoj traci\n",
    "            vozilo_zadnje_id = int(rjesenje[i][-1])\n",
    "        \n",
    "            # postavi inicijalne id-ove vozila\n",
    "            if tmp_prvi_id == -9999:\n",
    "                tmp_prvi_id = vozilo_prvo_id\n",
    "                tmp_zadnji_id = vozilo_zadnje_id \n",
    "\n",
    "            if vozilo[vozilo_prvo_id][\"raspored\"] == vozilo[tmp_zadnji_id][\"raspored\"]:\n",
    "                g2 += 1\n",
    "                tmp_prvi_id = vozilo_prvo_id\n",
    "                tmp_zadnji_id = vozilo_zadnje_id   \n",
    "            else:\n",
    "                tmp_prvi_id = vozilo_prvo_id\n",
    "                tmp_zadnji_id = vozilo_zadnje_id   \n",
    "\n",
    "                    \n",
    "            # F1 ********\n",
    "            # NE PROVJERAVA  OGRANICENJE DA U TRACI ISTA SERIJA VOZILA\n",
    "            # ako je prva traka, odredi inicijalnu seriju\n",
    "            if serija == 0:\n",
    "                serija = vozilo[int(rjesenje[i][0])][\"serija\"]\n",
    "            else:\n",
    "                # odredi seriju prvog vozila u svakoj traci\n",
    "                serija2 = vozilo[int(rjesenje[i][0])][\"serija\"]\n",
    "                \n",
    "                # ukoliko se serije iz prosle i trenutne trake ne slazu\n",
    "                if serija2 != serija:\n",
    "                    razlika_serija += 1\n",
    "                    serija = serija2\n",
    "                    \n",
    "            # G3\n",
    "            # ako je duljina trake veca od 2 elemenata treba iterirati po njima\n",
    "            if len(rjesenje[i]) > 2:\n",
    "\n",
    "                tmp_v = -9999\n",
    "                # nagrada/penal po traci\n",
    "                n_p_traka = 0\n",
    "                  \n",
    "            tmp_raspored = -9999 # za g1\n",
    "            \n",
    "            # za svako vozilo u traci ''''''''''''''''''''''''''''''''''''''''''\n",
    "            for vozilo_id in rjesenje[i]:\n",
    "                \n",
    "                # F3 ********\n",
    "                iskoristeni_kapacitet += vozilo[int(vozilo_id)][\"duljina\"]\n",
    "                \n",
    "                # G1 ********\n",
    "                # odredi raspored prvog vozila u traci i spremi za usporedbu\n",
    "                if tmp_raspored == -9999:\n",
    "                    tmp_raspored = vozilo[int(vozilo_id)][\"raspored\"]\n",
    "                else:\n",
    "                    # raspored sljedeceg vozila u istoj traci\n",
    "                    raspored = vozilo[int(vozilo_id)][\"raspored\"]\n",
    "\n",
    "                    if tmp_raspored == raspored:\n",
    "                        br_isti_raspored += 1\n",
    "                    else:\n",
    "                        tmp_raspored = raspored\n",
    "                        \n",
    "                # G3 *********\n",
    "                if len(rjesenje[i]) > 2:\n",
    "                    if tmp_v == -9999:\n",
    "                        tmp_v = vozilo[int(vozilo_id)][\"izlazak\"]\n",
    "                    else:     \n",
    "                        vrijeme = vozilo[int(vozilo_id)][\"izlazak\"]\n",
    "                        n_p_traka += nagrada_penal(tmp_v, vrijeme)\n",
    "                        br_parova += 1\n",
    "                        tmp_v = vrijeme\n",
    "\n",
    "            # ''''''''''''''''''''''''''''''''''''''''''''''''''''''''''''''''''\n",
    "            # G3\n",
    "            if len(rjesenje[i]) == 2:\n",
    "                id1 = int(rjesenje[i][0])\n",
    "                id2 = int(rjesenje[i][1])\n",
    "            \n",
    "                v1 = vozilo[id1][\"izlazak\"]\n",
    "                v2 = vozilo[id2][\"izlazak\"]\n",
    "\n",
    "                n_p_traka_2 = nagrada_penal(v1, v2)\n",
    "                n_p_uk += n_p_traka_2\n",
    "                br_parova += 1\n",
    "                \n",
    "            if len(rjesenje[i]) > 2:                \n",
    "                n_p_uk += n_p_traka # g3\n",
    "            \n",
    "            # ako je duljina trake veca od 2 dodaj razmak 0.5 izmedu vozila za (br_vozila -1)*razmak\n",
    "            if len(rjesenje[i]) >= 2:\n",
    "                iskoristeni_kapacitet += (len(rjesenje[i]) -1)*0.5\n",
    "                \n",
    "            # ukupni kapacitet svih koristenih traka\n",
    "            ukupni_koristeni_kapacitet += traka[i+1][\"duljina\"]\n",
    "            \n",
    "            \n",
    "    F1 = (razlika_serija)/(broj_koristenih_traka-1)\n",
    "    F2 = broj_koristenih_traka/len(rjesenje) # tu sam mogel broj_traka\n",
    "    F3 = (ukupni_koristeni_kapacitet - iskoristeni_kapacitet)/(uk_kapacitet_svih_traka-uk_duljina_svih_vozila)\n",
    "    \n",
    "    G1 = br_isti_raspored/(broj_vozila-broj_koristenih_traka)\n",
    "    G2 = g2/(broj_koristenih_traka-1)\n",
    "    G3 = n_p_uk/(15*br_parova)\n",
    "    \n",
    "    g_uk = G1+G2+G3\n",
    "    f_uk = F1+F2+F3\n",
    "    \n",
    "    return F1, F2, F3, G1, G2, G3, g_uk/f_uk\n",
    "    "
   ]
  },
  {
   "cell_type": "code",
   "execution_count": 25,
   "metadata": {},
   "outputs": [
    {
     "data": {
      "text/plain": [
       "(0.16666666666666666,\n",
       " 0.8620689655172413,\n",
       " 0.43607954545454547,\n",
       " 0.7916666666666666,\n",
       " 0.5,\n",
       " 0.7916666666666666,\n",
       " 1.4222499637749813)"
      ]
     },
     "execution_count": 25,
     "metadata": {},
     "output_type": "execute_result"
    }
   ],
   "source": [
    "evaluation_function(primjer_rjesenja)"
   ]
  },
  {
   "cell_type": "markdown",
   "metadata": {},
   "source": [
    "# DUMB Feasible"
   ]
  },
  {
   "cell_type": "markdown",
   "metadata": {},
   "source": [
    "### restart"
   ]
  },
  {
   "cell_type": "code",
   "execution_count": 26,
   "metadata": {},
   "outputs": [
    {
     "data": {
      "text/plain": [
       "{'serija_po_trakama': array([0., 0., 0., 0., 0., 0., 0., 0., 0., 0., 0., 0., 0., 0., 0., 0., 0.,\n",
       "        0., 0., 0., 0., 0., 0., 0., 0., 0., 0., 0., 0.]),\n",
       " 'zadnje_vrijeme_izlaska': array([0., 0., 0., 0., 0., 0., 0., 0., 0., 0., 0., 0., 0., 0., 0., 0., 0.,\n",
       "        0., 0., 0., 0., 0., 0., 0., 0., 0., 0., 0., 0.]),\n",
       " 'vozila_po_trakama': [[],\n",
       "  [],\n",
       "  [],\n",
       "  [],\n",
       "  [],\n",
       "  [],\n",
       "  [],\n",
       "  [],\n",
       "  [],\n",
       "  [],\n",
       "  [],\n",
       "  [],\n",
       "  [],\n",
       "  [],\n",
       "  [],\n",
       "  [],\n",
       "  [],\n",
       "  [],\n",
       "  [],\n",
       "  [],\n",
       "  [],\n",
       "  [],\n",
       "  [],\n",
       "  [],\n",
       "  [],\n",
       "  [],\n",
       "  [],\n",
       "  [],\n",
       "  []],\n",
       " 'dostupan_kapacitet': array([ 74.,  83.,  90.,  97.,  96., 133., 132., 132., 134., 134., 134.,\n",
       "        128.,  85.,  88., 124., 120., 124., 107., 107., 107., 107.,  91.,\n",
       "         88.,  85.,  78.,  88.,  70.,  66.,  80.])}"
      ]
     },
     "execution_count": 26,
     "metadata": {},
     "output_type": "execute_result"
    }
   ],
   "source": [
    "# id traka od 0 do broj traka-1, idx\n",
    "njnj = {\"serija_po_trakama\": np.zeros(int(broj_traka)),\n",
    "        \"zadnje_vrijeme_izlaska\": np.zeros(int(broj_traka)),\n",
    "        \"vozila_po_trakama\":[[] for i in range(int(broj_traka))],\n",
    "        \"dostupan_kapacitet\":duljina_trake.copy()}\n",
    "njnj"
   ]
  },
  {
   "cell_type": "code",
   "execution_count": 27,
   "metadata": {},
   "outputs": [],
   "source": [
    "sorted_by_izlazak = sorted(vozilo.items(), key=lambda kv: kv[1][\"izlazak\"])\n"
   ]
  },
  {
   "cell_type": "markdown",
   "metadata": {},
   "source": [
    "### initial solution\n",
    "\n",
    "nekad 48, umjesto 49 vozila parkirano..."
   ]
  },
  {
   "cell_type": "code",
   "execution_count": null,
   "metadata": {},
   "outputs": [],
   "source": []
  },
  {
   "cell_type": "code",
   "execution_count": 28,
   "metadata": {},
   "outputs": [
    {
     "name": "stdout",
     "output_type": "stream",
     "text": [
      "[[31], [32], [38, 3], [], [34, 20], [47, 43, 40], [], [18, 35, 44], [5, 13], [], [6, 41, 25], [22, 39], [], [], [], [30, 46], [17, 33], [], [19, 4], [36, 21], [1, 24], [], [23], [], [14], [45, 10], [37], [16], [2]]\n",
      "vozilo ID =  7\n",
      "vozilo ID =  15\n",
      "vozilo ID =  8\n",
      "vozilo ID =  9\n",
      "vozilo ID =  48\n",
      "vozilo ID =  26\n",
      "vozilo ID =  11\n",
      "vozilo ID =  27\n",
      "vozilo ID =  28\n",
      "vozilo ID =  49\n",
      "vozilo ID =  12\n",
      "vozilo ID =  42\n",
      "vozilo ID =  29\n",
      "[[31], [32], [38, 3], [28, 42], [34, 20], [47, 43, 40], [15], [18, 35, 44], [5, 13], [48, 11], [6, 41, 25], [22, 39], [27], [8], [9], [30, 46], [17, 33], [7, 26], [19, 4], [36, 21], [1, 24], [49, 29], [23], [12], [14], [45, 10], [37], [16], [2]]\n"
     ]
    }
   ],
   "source": [
    "# while nisu iskoristena sva vozila\n",
    "\n",
    "\n",
    "# izgleda da su ove for petlje redundantne\n",
    "    \n",
    "# za svako vozilo prema vremenu izlaska\n",
    "for vozilo_el in sorted_by_izlazak:\n",
    "    vozilo_id = vozilo_el[0] # uzmi id vozila iz tuple\n",
    "\n",
    "    \n",
    "    trake = list(range(int(broj_traka)))\n",
    "    random.shuffle(trake)\n",
    "    \n",
    "    # za svaku traku\n",
    "    for i in trake:\n",
    "        # ako nije blokirana\n",
    "        traka_id = i+1\n",
    "        if traka_id not in blokirane_trake:\n",
    "\n",
    "\n",
    "            # nadji prvu koja nema ogranicenja za vozilo\n",
    "            if traka[traka_id][\"ogranicenje\"][vozilo_id-1]:\n",
    "\n",
    "                # ako kapacitet trake veci od duljine vozila, dopusti parkiranje\n",
    "                if njnj[\"dostupan_kapacitet\"][i] > vozilo[vozilo_id][\"duljina\"]:\n",
    "\n",
    "                    # ako se parkira prvo vozilo u traku, ne umanji kapacitet za 0.5 \n",
    "                    if njnj[\"serija_po_trakama\"][i] == 0:\n",
    "\n",
    "\n",
    "                        # umanji kapacitet za duljinu vozila\n",
    "                        njnj[\"dostupan_kapacitet\"][i] -= vozilo[vozilo_id][\"duljina\"]\n",
    "                        # dodaj vozilo u traku\n",
    "                        njnj[\"vozila_po_trakama\"][i].append(vozilo_id)\n",
    "                        # stavi seriju cijele trake onog vozila koje prvo parkirano\n",
    "                        njnj[\"serija_po_trakama\"][i] = vozilo[vozilo_id][\"serija\"]   \n",
    "                        # postavi zadnje vrijeme izlaska trake na izlazak zadgnje vozila\n",
    "                        njnj[\"zadnje_vrijeme_izlaska\"][i] = vozilo[vozilo_id][\"izlazak\"]\n",
    "                        \n",
    "\n",
    "                        ogranicenja_trake[vozilo_id-1, :] = 0\n",
    "\n",
    "                        break\n",
    "\n",
    "                        #traka[traka_id][\"ogranicenje\"][vozilo_id-1] = 0\n",
    "\n",
    "                    # ako je serija trake jednaka seriji vozila\n",
    "                    elif njnj[\"serija_po_trakama\"][i] == vozilo[vozilo_id][\"serija\"]:  \n",
    "                        if njnj[\"zadnje_vrijeme_izlaska\"][i] < vozilo[vozilo_id][\"izlazak\"]:\n",
    "\n",
    "                            # dodaj vozilo u traku\n",
    "                            njnj[\"vozila_po_trakama\"][i].append(vozilo_id)\n",
    "                            # umanji kapacitet za duljinu vozila + 0.5\n",
    "                            njnj[\"dostupan_kapacitet\"][i] -= vozilo[vozilo_id][\"duljina\"] + 0.5\n",
    "                            # postavi zadnje vrijeme izlaska trake na izlazak zadgnje vozila\n",
    "                            njnj[\"zadnje_vrijeme_izlaska\"][i] = vozilo[vozilo_id][\"izlazak\"]\n",
    "                            \n",
    "                            # ograniciti postavljanje vozila u sve ostale trake\n",
    "                            ogranicenja_trake[vozilo_id-1, :] = 0\n",
    "                            break\n",
    "                            #traka[traka_id][\"ogranicenje\"][vozilo_id-1] = 0\n",
    "                    # vozilo je u nekoj traci, na ostale trake postavi ogranicenje \n",
    "\n",
    "print(njnj[\"vozila_po_trakama\"])\n",
    "\n",
    "# izgleda da su ove for petlje redundantne\n",
    "    \n",
    "for vozilo_el in sorted_by_izlazak:\n",
    "    vozilo_id = vozilo_el[0] # uzmi id vozila iz tuple\n",
    "\n",
    "    trake = list(range(int(broj_traka)))\n",
    "    random.shuffle(trake)\n",
    "    \n",
    "    # za svaku traku\n",
    "    for i in trake:\n",
    "\n",
    "        traka_id = i+1\n",
    "            # nadji prvu koja nema ogranicenja za vozilo\n",
    "        if traka[traka_id][\"ogranicenje\"][vozilo_id-1]:\n",
    "\n",
    "            # ako kapacitet trake veci od duljine vozila, dopusti parkiranje\n",
    "            if njnj[\"dostupan_kapacitet\"][i] > vozilo[vozilo_id][\"duljina\"]:\n",
    "\n",
    "                # ako se parkira prvo vozilo u traku, ne umanji kapacitet za 0.5 *********************''''''''''''''''''''\n",
    "                if njnj[\"serija_po_trakama\"][i] == 0:\n",
    "\n",
    "                    \n",
    "                    najkasniji_izlazak_blokirajucih = 0\n",
    "                    for blokirajuce_tr in traka[traka_id][\"blokirana_od\"]:\n",
    "                        \n",
    "                        if njnj[\"zadnje_vrijeme_izlaska\"][int(blokirajuce_tr)-1] > najkasniji_izlazak_blokirajucih:\n",
    "                            najkasniji_izlazak_blokirajucih = njnj[\"zadnje_vrijeme_izlaska\"][int(blokirajuce_tr)-1]\n",
    "                    \n",
    "                    # vozilo koje ulazi u traku mora imati izlazak nakon izlaska vozila u traci koja ju blokira\n",
    "                    if vozilo[vozilo_id][\"izlazak\"] > najkasniji_izlazak_blokirajucih:\n",
    "                        \n",
    "                    # i mora imati izlazak prije svih blokiranih traka!\n",
    "                    # ako stavljam vozila u blokirajucu traku\n",
    "                    \n",
    "                        najraniji_izlazak_blokiranih = 999\n",
    "                        for blokirane_tr in traka[traka_id][\"blokira\"]:\n",
    "                            \n",
    "                            print(blokirane_tr)\n",
    "                            \n",
    "                            if njnj[\"zadnje_vrijeme_izlaska\"][int(blokirane_tr)-1] < najraniji_izlazak_blokiranih:\n",
    "                                najraniji_izlazak_blokiranih = njnj[\"vozila_po_trakama\"][int(blokirane_tr)-1]\n",
    "                                \n",
    "                        if vozilo[vozilo_id][\"izlazak\"] < najraniji_izlazak_blokiranih:\n",
    "                        \n",
    "                            \n",
    "                            print(\"vozilo ID = \",vozilo_id)\n",
    "                            # umanji kapacitet za duljinu vozila\n",
    "                            njnj[\"dostupan_kapacitet\"][i] -= vozilo[vozilo_id][\"duljina\"]\n",
    "                            # dodaj vozilo u traku\n",
    "                            njnj[\"vozila_po_trakama\"][i].append(vozilo_id)\n",
    "                            # stavi seriju cijele trake onog vozila koje prvo parkirano\n",
    "                            njnj[\"serija_po_trakama\"][i] = vozilo[vozilo_id][\"serija\"]   \n",
    "                            # postavi zadnje vrijeme izlaska trake na izlazak zadgnje vozila\n",
    "                            njnj[\"zadnje_vrijeme_izlaska\"][i] = vozilo[vozilo_id][\"izlazak\"]\n",
    "\n",
    "                            ogranicenja_trake[vozilo_id-1, :] = 0\n",
    "\n",
    "                            break\n",
    "\n",
    "                    #traka[traka_id][\"ogranicenje\"][vozilo_id-1] = 0\n",
    "\n",
    "                # ako je serija trake jednaka seriji vozila *********************''''''''''''''''''''\n",
    "                elif njnj[\"serija_po_trakama\"][i] == vozilo[vozilo_id][\"serija\"]:  \n",
    "                    \n",
    "                    \n",
    "                    najkasniji_izlazak_blokirajucih = 0\n",
    "                    for blokirajuce_tr in traka[traka_id][\"blokirana_od\"]:\n",
    "                        \n",
    "                        if njnj[\"zadnje_vrijeme_izlaska\"][int(blokirajuce_tr)-1] > najkasniji_izlazak_blokirajucih:\n",
    "                            najkasniji_izlazak_blokirajucih = njnj[\"zadnje_vrijeme_izlaska\"][int(blokirajuce_tr)-1]\n",
    "                    \n",
    "                    # vozilo koje ulazi u traku mora imati izlazak nakon izlaska vozila u traci koja ju blokira\n",
    "                    if vozilo[vozilo_id][\"izlazak\"] > najkasniji_izlazak_blokirajucih:\n",
    "\n",
    "                            najraniji_izlazak_blokiranih = 999\n",
    "                            for blokirane_tr in traka[traka_id][\"blokira\"]:\n",
    "\n",
    "                                if njnj[\"zadnje_vrijeme_izlaska\"][int(blokirane_tr)-1] < najraniji_izlazak_blokiranih:\n",
    "                                    najraniji_izlazak_blokiranih = njnj[\"vozila_po_trakama\"][int(blokirane_tr)-1]\n",
    "\n",
    "                            if vozilo[vozilo_id][\"izlazak\"] < najraniji_izlazak_blokiranih:\n",
    "                                \n",
    "                                print(\"vozilo ID = \",vozilo_id)\n",
    "                                # dodaj vozilo u traku\n",
    "                                njnj[\"vozila_po_trakama\"][i].append(vozilo_id)\n",
    "                                # umanji kapacitet za duljinu vozila + 0.5\n",
    "                                njnj[\"dostupan_kapacitet\"][i] -= vozilo[vozilo_id][\"duljina\"] + 0.5\n",
    "                                # postavi zadnje vrijeme izlaska trake na izlazak zadgnje vozila\n",
    "                                njnj[\"zadnje_vrijeme_izlaska\"][i] = vozilo[vozilo_id][\"izlazak\"]\n",
    "\n",
    "                                # ograniciti postavljanje vozila u sve ostale trake\n",
    "                                ogranicenja_trake[vozilo_id-1, :] = 0\n",
    "                                break\n",
    "                                \n",
    "print(njnj[\"vozila_po_trakama\"])"
   ]
  },
  {
   "cell_type": "code",
   "execution_count": 29,
   "metadata": {},
   "outputs": [
    {
     "data": {
      "text/plain": [
       "425.0"
      ]
     },
     "execution_count": 29,
     "metadata": {},
     "output_type": "execute_result"
    }
   ],
   "source": [
    "njnj[\"zadnje_vrijeme_izlaska\"][9]"
   ]
  },
  {
   "cell_type": "code",
   "execution_count": 30,
   "metadata": {},
   "outputs": [
    {
     "data": {
      "text/plain": [
       "341.0"
      ]
     },
     "execution_count": 30,
     "metadata": {},
     "output_type": "execute_result"
    }
   ],
   "source": [
    "njnj[\"zadnje_vrijeme_izlaska\"][11]"
   ]
  },
  {
   "cell_type": "code",
   "execution_count": 31,
   "metadata": {},
   "outputs": [
    {
     "data": {
      "text/plain": [
       "[48, 11]"
      ]
     },
     "execution_count": 31,
     "metadata": {},
     "output_type": "execute_result"
    }
   ],
   "source": [
    "njnj[\"vozila_po_trakama\"][9]"
   ]
  },
  {
   "cell_type": "code",
   "execution_count": 32,
   "metadata": {},
   "outputs": [
    {
     "name": "stdout",
     "output_type": "stream",
     "text": [
      "407\n",
      "425\n"
     ]
    }
   ],
   "source": [
    "for j in njnj[\"vozila_po_trakama\"][9]:\n",
    "    print(vozilo[j][\"izlazak\"])"
   ]
  },
  {
   "cell_type": "code",
   "execution_count": 33,
   "metadata": {},
   "outputs": [
    {
     "data": {
      "text/plain": [
       "[6, 41, 25]"
      ]
     },
     "execution_count": 33,
     "metadata": {},
     "output_type": "execute_result"
    }
   ],
   "source": [
    "njnj[\"vozila_po_trakama\"][10]"
   ]
  },
  {
   "cell_type": "code",
   "execution_count": 34,
   "metadata": {},
   "outputs": [
    {
     "name": "stdout",
     "output_type": "stream",
     "text": [
      "393\n",
      "394\n",
      "400\n"
     ]
    }
   ],
   "source": [
    "for j in njnj[\"vozila_po_trakama\"][10]:\n",
    "    print(vozilo[j][\"izlazak\"])"
   ]
  },
  {
   "cell_type": "markdown",
   "metadata": {},
   "source": [
    "### rjesenje"
   ]
  },
  {
   "cell_type": "code",
   "execution_count": 35,
   "metadata": {},
   "outputs": [
    {
     "data": {
      "text/plain": [
       "{'serija_po_trakama': array([2., 2., 2., 2., 2., 2., 1., 2., 1., 1., 2., 1., 2., 1., 1., 1., 1.,\n",
       "        1., 1., 2., 2., 2., 1., 1., 2., 2., 2., 1., 2.]),\n",
       " 'zadnje_vrijeme_izlaska': array([283., 293., 345., 440., 314., 385., 397., 312., 381., 425., 400.,\n",
       "        341., 428., 399., 406., 332., 298., 409., 360., 324., 391., 442.,\n",
       "        344., 438., 419., 410., 318., 255., 333.]),\n",
       " 'vozila_po_trakama': [[31],\n",
       "  [32],\n",
       "  [38, 3],\n",
       "  [28, 42],\n",
       "  [34, 20],\n",
       "  [47, 43, 40],\n",
       "  [15],\n",
       "  [18, 35, 44],\n",
       "  [5, 13],\n",
       "  [48, 11],\n",
       "  [6, 41, 25],\n",
       "  [22, 39],\n",
       "  [27],\n",
       "  [8],\n",
       "  [9],\n",
       "  [30, 46],\n",
       "  [17, 33],\n",
       "  [7, 26],\n",
       "  [19, 4],\n",
       "  [36, 21],\n",
       "  [1, 24],\n",
       "  [49, 29],\n",
       "  [23],\n",
       "  [12],\n",
       "  [14],\n",
       "  [45, 10],\n",
       "  [37],\n",
       "  [16],\n",
       "  [2]],\n",
       " 'dostupan_kapacitet': array([32. , 41. ,  5.5, 12.5, 11.5,  6. , 79. ,  5. , 27.5, 27.5,  7. ,\n",
       "        21.5, 43. , 35. , 71. , 13.5, 17.5,  0.5,  0.5, 22.5, 22.5,  6.5,\n",
       "        35. , 32. , 36. ,  3.5, 28. , 13. , 38. ])}"
      ]
     },
     "execution_count": 35,
     "metadata": {},
     "output_type": "execute_result"
    }
   ],
   "source": [
    "njnj"
   ]
  },
  {
   "cell_type": "code",
   "execution_count": 36,
   "metadata": {},
   "outputs": [
    {
     "data": {
      "text/plain": [
       "[49, 29]"
      ]
     },
     "execution_count": 36,
     "metadata": {},
     "output_type": "execute_result"
    }
   ],
   "source": [
    "njnj[\"vozila_po_trakama\"][21]  # traka 22"
   ]
  },
  {
   "cell_type": "code",
   "execution_count": 37,
   "metadata": {},
   "outputs": [
    {
     "data": {
      "text/plain": [
       "437"
      ]
     },
     "execution_count": 37,
     "metadata": {},
     "output_type": "execute_result"
    }
   ],
   "source": [
    "vozilo[49][\"izlazak\"] # prvo u traci 22"
   ]
  },
  {
   "cell_type": "code",
   "execution_count": 38,
   "metadata": {},
   "outputs": [
    {
     "data": {
      "text/plain": [
       "[1, 24]"
      ]
     },
     "execution_count": 38,
     "metadata": {},
     "output_type": "execute_result"
    }
   ],
   "source": [
    "njnj[\"vozila_po_trakama\"][20] # traka 21"
   ]
  },
  {
   "cell_type": "code",
   "execution_count": 39,
   "metadata": {},
   "outputs": [
    {
     "data": {
      "text/plain": [
       "438"
      ]
     },
     "execution_count": 39,
     "metadata": {},
     "output_type": "execute_result"
    }
   ],
   "source": [
    "vozilo[12][\"izlazak\"] # zadnje u 21 trea biti prije prvog u 22"
   ]
  },
  {
   "cell_type": "code",
   "execution_count": 40,
   "metadata": {},
   "outputs": [],
   "source": [
    "# traka 22 se puni nakon trake 21, jer je 22 blokirana"
   ]
  },
  {
   "cell_type": "code",
   "execution_count": null,
   "metadata": {},
   "outputs": [],
   "source": []
  },
  {
   "cell_type": "code",
   "execution_count": 41,
   "metadata": {},
   "outputs": [
    {
     "data": {
      "text/plain": [
       "(0.42857142857142855,\n",
       " 1.0,\n",
       " 0.9857954545454546,\n",
       " 0.25,\n",
       " 0.42857142857142855,\n",
       " -0.013333333333333334,\n",
       " 0.2755331428251247)"
      ]
     },
     "execution_count": 41,
     "metadata": {},
     "output_type": "execute_result"
    }
   ],
   "source": [
    "evaluation_function(njnj[\"vozila_po_trakama\"])"
   ]
  },
  {
   "cell_type": "code",
   "execution_count": 42,
   "metadata": {},
   "outputs": [],
   "source": [
    "iskoristena_vozila = list(np.unique(j for lista in njnj[\"vozila_po_trakama\"] for j in lista)[0])"
   ]
  },
  {
   "cell_type": "code",
   "execution_count": 43,
   "metadata": {},
   "outputs": [
    {
     "data": {
      "text/plain": [
       "49"
      ]
     },
     "execution_count": 43,
     "metadata": {},
     "output_type": "execute_result"
    }
   ],
   "source": [
    "len(iskoristena_vozila)"
   ]
  },
  {
   "cell_type": "code",
   "execution_count": 44,
   "metadata": {},
   "outputs": [
    {
     "data": {
      "text/plain": [
       "334"
      ]
     },
     "execution_count": 44,
     "metadata": {},
     "output_type": "execute_result"
    }
   ],
   "source": [
    "vozilo[22][\"izlazak\"]"
   ]
  },
  {
   "cell_type": "code",
   "execution_count": 45,
   "metadata": {},
   "outputs": [
    {
     "data": {
      "text/plain": [
       "['21', '23']"
      ]
     },
     "execution_count": 45,
     "metadata": {},
     "output_type": "execute_result"
    }
   ],
   "source": [
    "traka[22][\"blokirana_od\"]"
   ]
  },
  {
   "cell_type": "code",
   "execution_count": 46,
   "metadata": {},
   "outputs": [
    {
     "data": {
      "text/plain": [
       "array([283., 293., 345., 440., 314., 385., 397., 312., 381., 425., 400.,\n",
       "       341., 428., 399., 406., 332., 298., 409., 360., 324., 391., 442.,\n",
       "       344., 438., 419., 410., 318., 255., 333.])"
      ]
     },
     "execution_count": 46,
     "metadata": {},
     "output_type": "execute_result"
    }
   ],
   "source": [
    "njnj[\"zadnje_vrijeme_izlaska\"]"
   ]
  },
  {
   "cell_type": "markdown",
   "metadata": {},
   "source": [
    "# pomocno"
   ]
  },
  {
   "cell_type": "code",
   "execution_count": 47,
   "metadata": {},
   "outputs": [
    {
     "data": {
      "text/plain": [
       "array([[1, 2],\n",
       "       [3, 4]])"
      ]
     },
     "execution_count": 47,
     "metadata": {},
     "output_type": "execute_result"
    }
   ],
   "source": [
    "yolo = np.array([[1,2],[3,4]])\n",
    "yolo"
   ]
  },
  {
   "cell_type": "code",
   "execution_count": 48,
   "metadata": {},
   "outputs": [
    {
     "data": {
      "text/plain": [
       "{'nj': array([1, 3])}"
      ]
     },
     "execution_count": 48,
     "metadata": {},
     "output_type": "execute_result"
    }
   ],
   "source": [
    "yolo2 = {\"nj\": yolo[:,0]}\n",
    "yolo2"
   ]
  },
  {
   "cell_type": "code",
   "execution_count": 49,
   "metadata": {},
   "outputs": [],
   "source": [
    "yolo[0][0] = 10"
   ]
  },
  {
   "cell_type": "code",
   "execution_count": 50,
   "metadata": {},
   "outputs": [
    {
     "data": {
      "text/plain": [
       "array([[10,  2],\n",
       "       [ 3,  4]])"
      ]
     },
     "execution_count": 50,
     "metadata": {},
     "output_type": "execute_result"
    }
   ],
   "source": [
    "yolo"
   ]
  },
  {
   "cell_type": "code",
   "execution_count": 51,
   "metadata": {},
   "outputs": [
    {
     "data": {
      "text/plain": [
       "{'nj': array([10,  3])}"
      ]
     },
     "execution_count": 51,
     "metadata": {},
     "output_type": "execute_result"
    }
   ],
   "source": [
    "yolo2"
   ]
  },
  {
   "cell_type": "code",
   "execution_count": null,
   "metadata": {},
   "outputs": [],
   "source": []
  }
 ],
 "metadata": {
  "kernelspec": {
   "display_name": "Python 3",
   "language": "python",
   "name": "python3"
  },
  "language_info": {
   "codemirror_mode": {
    "name": "ipython",
    "version": 3
   },
   "file_extension": ".py",
   "mimetype": "text/x-python",
   "name": "python",
   "nbconvert_exporter": "python",
   "pygments_lexer": "ipython3",
   "version": "3.6.3"
  }
 },
 "nbformat": 4,
 "nbformat_minor": 2
}
